{
  "metadata": {
    "kernelspec": {
      "language": "python",
      "display_name": "Python 3",
      "name": "python3"
    },
    "language_info": {
      "name": "python",
      "version": "3.10.13",
      "mimetype": "text/x-python",
      "codemirror_mode": {
        "name": "ipython",
        "version": 3
      },
      "pygments_lexer": "ipython3",
      "nbconvert_exporter": "python",
      "file_extension": ".py"
    },
    "kaggle": {
      "accelerator": "gpu",
      "dataSources": [
        {
          "sourceId": 182633,
          "sourceType": "datasetVersion",
          "datasetId": 78313
        }
      ],
      "dockerImageVersionId": 30698,
      "isInternetEnabled": false,
      "language": "python",
      "sourceType": "notebook",
      "isGpuEnabled": true
    },
    "colab": {
      "name": "notebook395db5cd11",
      "provenance": []
    }
  },
  "nbformat_minor": 0,
  "nbformat": 4,
  "cells": [
    {
      "source": [
        "\n",
        "# IMPORTANT: RUN THIS CELL IN ORDER TO IMPORT YOUR KAGGLE DATA SOURCES\n",
        "# TO THE CORRECT LOCATION (/kaggle/input) IN YOUR NOTEBOOK,\n",
        "# THEN FEEL FREE TO DELETE THIS CELL.\n",
        "# NOTE: THIS NOTEBOOK ENVIRONMENT DIFFERS FROM KAGGLE'S PYTHON\n",
        "# ENVIRONMENT SO THERE MAY BE MISSING LIBRARIES USED BY YOUR\n",
        "# NOTEBOOK.\n",
        "\n",
        "import os\n",
        "import sys\n",
        "from tempfile import NamedTemporaryFile\n",
        "from urllib.request import urlopen\n",
        "from urllib.parse import unquote, urlparse\n",
        "from urllib.error import HTTPError\n",
        "from zipfile import ZipFile\n",
        "import tarfile\n",
        "import shutil\n",
        "\n",
        "CHUNK_SIZE = 40960\n",
        "DATA_SOURCE_MAPPING = 'new-plant-diseases-dataset:https%3A%2F%2Fstorage.googleapis.com%2Fkaggle-data-sets%2F78313%2F182633%2Fbundle%2Farchive.zip%3FX-Goog-Algorithm%3DGOOG4-RSA-SHA256%26X-Goog-Credential%3Dgcp-kaggle-com%2540kaggle-161607.iam.gserviceaccount.com%252F20240831%252Fauto%252Fstorage%252Fgoog4_request%26X-Goog-Date%3D20240831T110527Z%26X-Goog-Expires%3D259200%26X-Goog-SignedHeaders%3Dhost%26X-Goog-Signature%3D9cff503093b179d5443a4a4fe09ddbe52cfdb360fc1b3a75ae2bcabeb06e67808487c3b6ee032ee50fa4468b8656dfef3d3e51f314a7257fc2ce7b39235308f860ab712860abbedee7b51763306f1d0b9ea6313777435911f74853115606a1410bc18dcb0ce8b331c831e185ea015cd654b94bd825d90ece31ff0df81d93839ad95662f8f17c7f132053b01843af3d5830b6463968c397fe67a8717476f77140f436e07adc8f1f9946344fccd054848e5d08efc6ca7227ba08991bcf87f7646fa587932c9c1fc3310e6beb1f322266a357ea38d025fb29e67c6f8ea7d615e119ea5adb34b7d93fb9944098e15073c22245898f8e4371d564f405d9a93ccee2f3'\n",
        "\n",
        "KAGGLE_INPUT_PATH='/kaggle/input'\n",
        "KAGGLE_WORKING_PATH='/kaggle/working'\n",
        "KAGGLE_SYMLINK='kaggle'\n",
        "\n",
        "!umount /kaggle/input/ 2> /dev/null\n",
        "shutil.rmtree('/kaggle/input', ignore_errors=True)\n",
        "os.makedirs(KAGGLE_INPUT_PATH, 0o777, exist_ok=True)\n",
        "os.makedirs(KAGGLE_WORKING_PATH, 0o777, exist_ok=True)\n",
        "\n",
        "try:\n",
        "  os.symlink(KAGGLE_INPUT_PATH, os.path.join(\"..\", 'input'), target_is_directory=True)\n",
        "except FileExistsError:\n",
        "  pass\n",
        "try:\n",
        "  os.symlink(KAGGLE_WORKING_PATH, os.path.join(\"..\", 'working'), target_is_directory=True)\n",
        "except FileExistsError:\n",
        "  pass\n",
        "\n",
        "for data_source_mapping in DATA_SOURCE_MAPPING.split(','):\n",
        "    directory, download_url_encoded = data_source_mapping.split(':')\n",
        "    download_url = unquote(download_url_encoded)\n",
        "    filename = urlparse(download_url).path\n",
        "    destination_path = os.path.join(KAGGLE_INPUT_PATH, directory)\n",
        "    try:\n",
        "        with urlopen(download_url) as fileres, NamedTemporaryFile() as tfile:\n",
        "            total_length = fileres.headers['content-length']\n",
        "            print(f'Downloading {directory}, {total_length} bytes compressed')\n",
        "            dl = 0\n",
        "            data = fileres.read(CHUNK_SIZE)\n",
        "            while len(data) > 0:\n",
        "                dl += len(data)\n",
        "                tfile.write(data)\n",
        "                done = int(50 * dl / int(total_length))\n",
        "                sys.stdout.write(f\"\\r[{'=' * done}{' ' * (50-done)}] {dl} bytes downloaded\")\n",
        "                sys.stdout.flush()\n",
        "                data = fileres.read(CHUNK_SIZE)\n",
        "            if filename.endswith('.zip'):\n",
        "              with ZipFile(tfile) as zfile:\n",
        "                zfile.extractall(destination_path)\n",
        "            else:\n",
        "              with tarfile.open(tfile.name) as tarfile:\n",
        "                tarfile.extractall(destination_path)\n",
        "            print(f'\\nDownloaded and uncompressed: {directory}')\n",
        "    except HTTPError as e:\n",
        "        print(f'Failed to load (likely expired) {download_url} to path {destination_path}')\n",
        "        continue\n",
        "    except OSError as e:\n",
        "        print(f'Failed to load {download_url} to path {destination_path}')\n",
        "        continue\n",
        "\n",
        "print('Data source import complete.')\n"
      ],
      "metadata": {
        "id": "KwfeNwdRJrAC"
      },
      "cell_type": "code",
      "outputs": [],
      "execution_count": null
    },
    {
      "cell_type": "markdown",
      "source": [
        "# ☘️Dr. Leaf Automated Plant Disease Detection ☘️"
      ],
      "metadata": {
        "id": "EAPZrpeFJrAE"
      }
    },
    {
      "cell_type": "markdown",
      "source": [
        "Our Members :\n",
        "Jagrit Pant,\n",
        "Shireen Jain,\n",
        "Garvitaa Agarwal,\n",
        "Mudita Pathak,\n",
        "Sunandini Charkrabarty,\n",
        "Marwa Asad."
      ],
      "metadata": {
        "id": "af3q83JQJrAF"
      }
    },
    {
      "cell_type": "markdown",
      "source": [
        "# Our goal\n",
        "We need to build a model, which can classify between healthy and diseased crop leaves and also if the crop have any disease, predict which disease is it."
      ],
      "metadata": {
        "id": "c-v216aUJrAF"
      }
    },
    {
      "cell_type": "markdown",
      "source": [
        "## Importing necessary libraries"
      ],
      "metadata": {
        "id": "um-QHc3eJrAF"
      }
    },
    {
      "cell_type": "code",
      "source": [
        "!pip install torchsummary"
      ],
      "metadata": {
        "execution": {
          "iopub.status.busy": "2024-05-08T17:02:29.181989Z",
          "iopub.execute_input": "2024-05-08T17:02:29.182608Z",
          "iopub.status.idle": "2024-05-08T17:02:43.189749Z",
          "shell.execute_reply.started": "2024-05-08T17:02:29.182576Z",
          "shell.execute_reply": "2024-05-08T17:02:43.188597Z"
        },
        "trusted": true,
        "id": "bGMjKCHXJrAF"
      },
      "execution_count": null,
      "outputs": []
    },
    {
      "cell_type": "code",
      "source": [
        "import os                       # for working with files\n",
        "import numpy as np              # for numerical computationss\n",
        "import pandas as pd             # for working with dataframes\n",
        "import torch                    # Pytorch module\n",
        "import matplotlib.pyplot as plt # for plotting informations on graph and images using tensors\n",
        "import torch.nn as nn           # for creating  neural networks\n",
        "from torch.utils.data import DataLoader # for dataloaders\n",
        "from PIL import Image           # for checking images\n",
        "import torch.nn.functional as F # for functions for calculating loss\n",
        "import torchvision.transforms as transforms   # for transforming images into tensors\n",
        "from torchvision.utils import make_grid       # for data checking\n",
        "from torchvision.datasets import ImageFolder  # for working with classes and images\n",
        "from torchsummary import summary              # for getting the summary of our model\n",
        "\n",
        "%matplotlib inline"
      ],
      "metadata": {
        "_uuid": "8f2839f25d086af736a60e9eeb907d3b93b6e0e5",
        "_cell_guid": "b1076dfc-b9ad-4769-8c92-a6c4dae69d19",
        "execution": {
          "iopub.status.busy": "2024-05-08T17:02:43.19182Z",
          "iopub.execute_input": "2024-05-08T17:02:43.192143Z",
          "iopub.status.idle": "2024-05-08T17:02:49.186041Z",
          "shell.execute_reply.started": "2024-05-08T17:02:43.192113Z",
          "shell.execute_reply": "2024-05-08T17:02:49.185069Z"
        },
        "trusted": true,
        "id": "kEx5plcdJrAF"
      },
      "execution_count": null,
      "outputs": []
    },
    {
      "cell_type": "markdown",
      "source": [
        "# Exploring the data"
      ],
      "metadata": {
        "id": "8EWooTg2JrAG"
      }
    },
    {
      "cell_type": "code",
      "source": [
        "data_dir = \"../input/new-plant-diseases-dataset/New Plant Diseases Dataset(Augmented)/New Plant Diseases Dataset(Augmented)\"\n",
        "train_dir = data_dir + \"/train\"\n",
        "valid_dir = data_dir + \"/valid\"\n",
        "diseases = os.listdir(train_dir)"
      ],
      "metadata": {
        "execution": {
          "iopub.status.busy": "2024-05-08T17:02:49.187215Z",
          "iopub.execute_input": "2024-05-08T17:02:49.18762Z",
          "iopub.status.idle": "2024-05-08T17:02:49.210514Z",
          "shell.execute_reply.started": "2024-05-08T17:02:49.187593Z",
          "shell.execute_reply": "2024-05-08T17:02:49.209722Z"
        },
        "trusted": true,
        "id": "odAsgl7MJrAG"
      },
      "execution_count": null,
      "outputs": []
    },
    {
      "cell_type": "code",
      "source": [
        "print(\"Total disease classes are: {}\".format(len(diseases)))"
      ],
      "metadata": {
        "execution": {
          "iopub.status.busy": "2024-05-08T17:02:49.213127Z",
          "iopub.execute_input": "2024-05-08T17:02:49.213722Z",
          "iopub.status.idle": "2024-05-08T17:02:49.218181Z",
          "shell.execute_reply.started": "2024-05-08T17:02:49.213688Z",
          "shell.execute_reply": "2024-05-08T17:02:49.217218Z"
        },
        "trusted": true,
        "id": "7p_DpyASJrAG"
      },
      "execution_count": null,
      "outputs": []
    },
    {
      "cell_type": "code",
      "source": [
        "plants = []\n",
        "NumberOfDiseases = 0\n",
        "for plant in diseases:\n",
        "    if plant.split('___')[0] not in plants:\n",
        "        plants.append(plant.split('___')[0])\n",
        "    if plant.split('___')[1] != 'healthy':\n",
        "        NumberOfDiseases += 1"
      ],
      "metadata": {
        "execution": {
          "iopub.status.busy": "2024-05-08T17:02:49.219372Z",
          "iopub.execute_input": "2024-05-08T17:02:49.219681Z",
          "iopub.status.idle": "2024-05-08T17:02:49.230907Z",
          "shell.execute_reply.started": "2024-05-08T17:02:49.219652Z",
          "shell.execute_reply": "2024-05-08T17:02:49.230077Z"
        },
        "trusted": true,
        "id": "o9k09JgcJrAG"
      },
      "execution_count": null,
      "outputs": []
    },
    {
      "cell_type": "markdown",
      "source": [
        "The above cell extract the number of unique plants and number of unique diseases"
      ],
      "metadata": {
        "id": "yFyVtiwwJrAG"
      }
    },
    {
      "cell_type": "code",
      "source": [
        "# unique plants in the dataset\n",
        "print(f\"Unique Plants are: \\n{plants}\")"
      ],
      "metadata": {
        "execution": {
          "iopub.status.busy": "2024-05-08T17:02:49.232294Z",
          "iopub.execute_input": "2024-05-08T17:02:49.232836Z",
          "iopub.status.idle": "2024-05-08T17:02:49.241029Z",
          "shell.execute_reply.started": "2024-05-08T17:02:49.232805Z",
          "shell.execute_reply": "2024-05-08T17:02:49.240158Z"
        },
        "trusted": true,
        "id": "Qjrb64S9JrAH"
      },
      "execution_count": null,
      "outputs": []
    },
    {
      "cell_type": "code",
      "source": [
        "# number of unique plants\n",
        "print(\"Number of plants: {}\".format(len(plants)))"
      ],
      "metadata": {
        "execution": {
          "iopub.status.busy": "2024-05-08T17:02:49.24194Z",
          "iopub.execute_input": "2024-05-08T17:02:49.242196Z",
          "iopub.status.idle": "2024-05-08T17:02:49.250764Z",
          "shell.execute_reply.started": "2024-05-08T17:02:49.242175Z",
          "shell.execute_reply": "2024-05-08T17:02:49.249949Z"
        },
        "trusted": true,
        "id": "QSfY-Pk_JrAH"
      },
      "execution_count": null,
      "outputs": []
    },
    {
      "cell_type": "code",
      "source": [
        "# number of unique diseases\n",
        "print(\"Number of diseases: {}\".format(NumberOfDiseases))"
      ],
      "metadata": {
        "execution": {
          "iopub.status.busy": "2024-05-08T17:02:49.251866Z",
          "iopub.execute_input": "2024-05-08T17:02:49.252238Z",
          "iopub.status.idle": "2024-05-08T17:02:49.260158Z",
          "shell.execute_reply.started": "2024-05-08T17:02:49.252213Z",
          "shell.execute_reply": "2024-05-08T17:02:49.259329Z"
        },
        "trusted": true,
        "id": "6HcUbaqLJrAH"
      },
      "execution_count": null,
      "outputs": []
    },
    {
      "cell_type": "markdown",
      "source": [
        "So we have images of leaves of 14 plants and while excluding healthy leaves, we have 26 types of images that show a particular disease in a particular plant."
      ],
      "metadata": {
        "id": "zQ-vI6SJJrAH"
      }
    },
    {
      "cell_type": "code",
      "source": [
        "# Number of images for each disease\n",
        "nums = {}\n",
        "for disease in diseases:\n",
        "    nums[disease] = len(os.listdir(train_dir + '/' + disease))\n",
        "\n",
        "# converting the nums dictionary to pandas dataframe passing index as plant name and number of images as column\n",
        "\n",
        "img_per_class = pd.DataFrame(nums.values(), index=nums.keys(), columns=[\"no. of images\"])\n",
        "img_per_class"
      ],
      "metadata": {
        "execution": {
          "iopub.status.busy": "2024-05-08T17:02:49.261189Z",
          "iopub.execute_input": "2024-05-08T17:02:49.261473Z",
          "iopub.status.idle": "2024-05-08T17:02:54.632581Z",
          "shell.execute_reply.started": "2024-05-08T17:02:49.26145Z",
          "shell.execute_reply": "2024-05-08T17:02:54.631653Z"
        },
        "trusted": true,
        "id": "o7soQ1mJJrAH"
      },
      "execution_count": null,
      "outputs": []
    },
    {
      "cell_type": "markdown",
      "source": [
        "#### Visualizing the above information on a graph"
      ],
      "metadata": {
        "id": "ZEQVEFQHJrAH"
      }
    },
    {
      "cell_type": "code",
      "source": [
        "# plotting number of images available for each disease\n",
        "index = [n for n in range(38)]\n",
        "plt.figure(figsize=(20, 5))\n",
        "plt.bar(index, [n for n in nums.values()], width=0.3)\n",
        "plt.xlabel('Plants/Diseases', fontsize=10)\n",
        "plt.ylabel('No of images available', fontsize=10)\n",
        "plt.xticks(index, diseases, fontsize=5, rotation=90)\n",
        "plt.title('Images per each class of plant disease')"
      ],
      "metadata": {
        "execution": {
          "iopub.status.busy": "2024-05-08T17:02:54.637446Z",
          "iopub.execute_input": "2024-05-08T17:02:54.637962Z",
          "iopub.status.idle": "2024-05-08T17:02:55.441843Z",
          "shell.execute_reply.started": "2024-05-08T17:02:54.637926Z",
          "shell.execute_reply": "2024-05-08T17:02:55.440871Z"
        },
        "trusted": true,
        "id": "10owXFo2JrAH"
      },
      "execution_count": null,
      "outputs": []
    },
    {
      "cell_type": "markdown",
      "source": [
        "We can see that the dataset is almost balanced for all classes, so we are good to go forward"
      ],
      "metadata": {
        "id": "vI168I3-JrAH"
      }
    },
    {
      "cell_type": "markdown",
      "source": [
        "#### Images available for training"
      ],
      "metadata": {
        "id": "9xnU5C2qJrAH"
      }
    },
    {
      "cell_type": "code",
      "source": [
        "n_train = 0\n",
        "for value in nums.values():\n",
        "    n_train += value\n",
        "print(f\"There are {n_train} images for training\")"
      ],
      "metadata": {
        "execution": {
          "iopub.status.busy": "2024-05-08T17:02:55.443076Z",
          "iopub.execute_input": "2024-05-08T17:02:55.443378Z",
          "iopub.status.idle": "2024-05-08T17:02:55.448766Z",
          "shell.execute_reply.started": "2024-05-08T17:02:55.443352Z",
          "shell.execute_reply": "2024-05-08T17:02:55.447762Z"
        },
        "trusted": true,
        "id": "mglkFh8SJrAH"
      },
      "execution_count": null,
      "outputs": []
    },
    {
      "cell_type": "markdown",
      "source": [
        "# Data Preparation for training"
      ],
      "metadata": {
        "id": "BgfV_rs1JrAH"
      }
    },
    {
      "cell_type": "code",
      "source": [
        "# datasets for validation and training\n",
        "train = ImageFolder(train_dir, transform=transforms.ToTensor())\n",
        "valid = ImageFolder(valid_dir, transform=transforms.ToTensor())"
      ],
      "metadata": {
        "execution": {
          "iopub.status.busy": "2024-05-08T17:02:55.450092Z",
          "iopub.execute_input": "2024-05-08T17:02:55.450366Z",
          "iopub.status.idle": "2024-05-08T17:03:45.461438Z",
          "shell.execute_reply.started": "2024-05-08T17:02:55.450342Z",
          "shell.execute_reply": "2024-05-08T17:03:45.460554Z"
        },
        "trusted": true,
        "id": "GgczOJXXJrAH"
      },
      "execution_count": null,
      "outputs": []
    },
    {
      "cell_type": "markdown",
      "source": [
        "`torchvision.datasets` is a class which helps in loading all common and famous datasets. It also helps in loading custom datasets. I have used subclass `torchvision.datasets.ImageFolder` which helps in loading the image data when the data is arranged in this way:\n",
        "\n",
        "----------------\n",
        "root/dog/xxx.png\n",
        "\n",
        "root/dog/xxy.png\n",
        "\n",
        "root/dog/xxz.png\n",
        "\n",
        "<br>\n",
        "\n",
        "root/cat/123.png\n",
        "\n",
        "root/cat/nsdf3.png\n",
        "\n",
        "root/cat/asd932_.png\n",
        "\n",
        "----------------"
      ],
      "metadata": {
        "id": "EQpeArEbJrAH"
      }
    },
    {
      "cell_type": "markdown",
      "source": [
        "Next, after loading the data, we need to transform the pixel values of each image (0-255) to 0-1 as neural networks works quite good with normalized data. The entire array of pixel values is converted to torch [tensor](https://pytorch.org/tutorials/beginner/examples_tensor/two_layer_net_tensor.html#:~:text=A%20PyTorch%20Tensor%20is%20basically,used%20for%20arbitrary%20numeric%20computation.) and then divided by 255.\n",
        "If you are not familiar why normalizing inputs help neural network, read [this](https://towardsdatascience.com/why-data-should-be-normalized-before-training-a-neural-network-c626b7f66c7d) post."
      ],
      "metadata": {
        "id": "CZDJJE_KJrAH"
      }
    },
    {
      "cell_type": "markdown",
      "source": [
        "#### Image shape"
      ],
      "metadata": {
        "id": "oJWRoz6eJrAI"
      }
    },
    {
      "cell_type": "code",
      "source": [
        "img, label = train[0]\n",
        "print(img.shape, label)"
      ],
      "metadata": {
        "execution": {
          "iopub.status.busy": "2024-05-08T17:03:45.462759Z",
          "iopub.execute_input": "2024-05-08T17:03:45.463258Z",
          "iopub.status.idle": "2024-05-08T17:03:45.516566Z",
          "shell.execute_reply.started": "2024-05-08T17:03:45.463222Z",
          "shell.execute_reply": "2024-05-08T17:03:45.515583Z"
        },
        "trusted": true,
        "id": "FmPky_ApJrAI"
      },
      "execution_count": null,
      "outputs": []
    },
    {
      "cell_type": "markdown",
      "source": [
        "We can see the shape (3, 256 256) of the image. 3 is the number of channels (RGB) and 256 x 256 is the width and height of the image"
      ],
      "metadata": {
        "id": "uqJC4-aLJrAI"
      }
    },
    {
      "cell_type": "code",
      "source": [
        "# total number of classes in train set\n",
        "len(train.classes)"
      ],
      "metadata": {
        "execution": {
          "iopub.status.busy": "2024-05-08T17:03:45.517776Z",
          "iopub.execute_input": "2024-05-08T17:03:45.518676Z",
          "iopub.status.idle": "2024-05-08T17:03:45.524723Z",
          "shell.execute_reply.started": "2024-05-08T17:03:45.518635Z",
          "shell.execute_reply": "2024-05-08T17:03:45.523738Z"
        },
        "trusted": true,
        "id": "t8ylJkLxJrAI"
      },
      "execution_count": null,
      "outputs": []
    },
    {
      "cell_type": "code",
      "source": [
        "# for checking some images from training dataset\n",
        "def show_image(image, label):\n",
        "    print(\"Label :\" + train.classes[label] + \"(\" + str(label) + \")\")\n",
        "    plt.imshow(image.permute(1, 2, 0))"
      ],
      "metadata": {
        "execution": {
          "iopub.status.busy": "2024-05-08T17:03:45.525795Z",
          "iopub.execute_input": "2024-05-08T17:03:45.526385Z",
          "iopub.status.idle": "2024-05-08T17:03:45.533451Z",
          "shell.execute_reply.started": "2024-05-08T17:03:45.526348Z",
          "shell.execute_reply": "2024-05-08T17:03:45.532687Z"
        },
        "trusted": true,
        "id": "h4UQXmyIJrAI"
      },
      "execution_count": null,
      "outputs": []
    },
    {
      "cell_type": "markdown",
      "source": [
        "## Some Images from training dataset"
      ],
      "metadata": {
        "id": "iYMsx36lJrAI"
      }
    },
    {
      "cell_type": "code",
      "source": [
        "show_image(*train[0])"
      ],
      "metadata": {
        "execution": {
          "iopub.status.busy": "2024-05-08T17:03:45.534436Z",
          "iopub.execute_input": "2024-05-08T17:03:45.534722Z",
          "iopub.status.idle": "2024-05-08T17:03:46.049111Z",
          "shell.execute_reply.started": "2024-05-08T17:03:45.534689Z",
          "shell.execute_reply": "2024-05-08T17:03:46.048197Z"
        },
        "trusted": true,
        "id": "G7db2ELYJrAI"
      },
      "execution_count": null,
      "outputs": []
    },
    {
      "cell_type": "code",
      "source": [
        "show_image(*train[70000])"
      ],
      "metadata": {
        "execution": {
          "iopub.status.busy": "2024-05-08T17:03:46.050251Z",
          "iopub.execute_input": "2024-05-08T17:03:46.050512Z",
          "iopub.status.idle": "2024-05-08T17:03:46.394936Z",
          "shell.execute_reply.started": "2024-05-08T17:03:46.050489Z",
          "shell.execute_reply": "2024-05-08T17:03:46.394055Z"
        },
        "trusted": true,
        "id": "Fa3XEW_KJrAI"
      },
      "execution_count": null,
      "outputs": []
    },
    {
      "cell_type": "code",
      "source": [
        "show_image(*train[30000])"
      ],
      "metadata": {
        "execution": {
          "iopub.status.busy": "2024-05-08T17:03:46.396324Z",
          "iopub.execute_input": "2024-05-08T17:03:46.396643Z",
          "iopub.status.idle": "2024-05-08T17:03:46.668865Z",
          "shell.execute_reply.started": "2024-05-08T17:03:46.396617Z",
          "shell.execute_reply": "2024-05-08T17:03:46.66787Z"
        },
        "trusted": true,
        "id": "EkLMxJE3JrAI"
      },
      "execution_count": null,
      "outputs": []
    },
    {
      "cell_type": "code",
      "source": [
        "# Setting the seed value\n",
        "random_seed = 7\n",
        "torch.manual_seed(random_seed)"
      ],
      "metadata": {
        "execution": {
          "iopub.status.busy": "2024-05-08T17:03:46.670177Z",
          "iopub.execute_input": "2024-05-08T17:03:46.670475Z",
          "iopub.status.idle": "2024-05-08T17:03:46.678846Z",
          "shell.execute_reply.started": "2024-05-08T17:03:46.670441Z",
          "shell.execute_reply": "2024-05-08T17:03:46.677857Z"
        },
        "trusted": true,
        "id": "9lXHjM8DJrAI"
      },
      "execution_count": null,
      "outputs": []
    },
    {
      "cell_type": "code",
      "source": [
        "# setting the batch size\n",
        "batch_size = 32"
      ],
      "metadata": {
        "execution": {
          "iopub.status.busy": "2024-05-08T17:03:46.679932Z",
          "iopub.execute_input": "2024-05-08T17:03:46.68024Z",
          "iopub.status.idle": "2024-05-08T17:03:46.685206Z",
          "shell.execute_reply.started": "2024-05-08T17:03:46.680215Z",
          "shell.execute_reply": "2024-05-08T17:03:46.684306Z"
        },
        "trusted": true,
        "id": "RZvq09tkJrAI"
      },
      "execution_count": null,
      "outputs": []
    },
    {
      "cell_type": "markdown",
      "source": [
        "`batch_size` is the total number of images given as input at once in forward propagation of the CNN. Basically, batch size defines the number of samples that will be propagated through the network.\n",
        "\n",
        "For instance, let's say you have 1050 training samples and you want to set up a batch_size equal to 100. The algorithm takes the first 100 samples (from 1st to 100th) from the training dataset and trains the network. Next, it takes the second 100 samples (from 101st to 200th) and trains the network again. We can keep doing this procedure until we have propagated all samples through of the network."
      ],
      "metadata": {
        "id": "3lAlntZEJrAI"
      }
    },
    {
      "cell_type": "code",
      "source": [
        "# DataLoaders for training and validation\n",
        "train_dl = DataLoader(train, batch_size, shuffle=True, num_workers=2, pin_memory=True)\n",
        "valid_dl = DataLoader(valid, batch_size, num_workers=2, pin_memory=True)"
      ],
      "metadata": {
        "execution": {
          "iopub.status.busy": "2024-05-08T17:03:46.686445Z",
          "iopub.execute_input": "2024-05-08T17:03:46.68709Z",
          "iopub.status.idle": "2024-05-08T17:03:46.695483Z",
          "shell.execute_reply.started": "2024-05-08T17:03:46.687065Z",
          "shell.execute_reply": "2024-05-08T17:03:46.694501Z"
        },
        "trusted": true,
        "id": "FaAS4yuWJrAJ"
      },
      "execution_count": null,
      "outputs": []
    },
    {
      "cell_type": "markdown",
      "source": [
        "- `DataLoader` is a subclass which comes from `torch.utils.data`. It helps in loading large and memory consuming datasets. It takes in `batch_size` which denotes the number of samples contained in each generated batch.\n",
        "\n",
        "- Setting `shuffle=True` shuffles the dataset. It is heplful so that batches between epochs do not look alike. Doing so will eventually make our model more robust.\n",
        "\n",
        "- `num_workers`, denotes the number of processes that generate batches in parallel. If you have more cores in your CPU, you can set it to number of cores in your CPU. Since, Kaggle provides a 2 core CPU, I have set it to 2\n"
      ],
      "metadata": {
        "id": "wQlwCjvqJrAL"
      }
    },
    {
      "cell_type": "code",
      "source": [
        "# helper function to show a batch of training instances\n",
        "def show_batch(data):\n",
        "    for images, labels in data:\n",
        "        fig, ax = plt.subplots(figsize=(30, 30))\n",
        "        ax.set_xticks([]); ax.set_yticks([])\n",
        "        ax.imshow(make_grid(images, nrow=8).permute(1, 2, 0))\n",
        "        break"
      ],
      "metadata": {
        "execution": {
          "iopub.status.busy": "2024-05-08T17:03:46.696566Z",
          "iopub.execute_input": "2024-05-08T17:03:46.696885Z",
          "iopub.status.idle": "2024-05-08T17:03:46.705895Z",
          "shell.execute_reply.started": "2024-05-08T17:03:46.696862Z",
          "shell.execute_reply": "2024-05-08T17:03:46.705167Z"
        },
        "trusted": true,
        "id": "OF8WDfg-JrAL"
      },
      "execution_count": null,
      "outputs": []
    },
    {
      "cell_type": "code",
      "source": [
        "# Images for first batch of training\n",
        "show_batch(train_dl)"
      ],
      "metadata": {
        "execution": {
          "iopub.status.busy": "2024-05-08T17:03:46.706898Z",
          "iopub.execute_input": "2024-05-08T17:03:46.707232Z",
          "iopub.status.idle": "2024-05-08T17:03:50.107062Z",
          "shell.execute_reply.started": "2024-05-08T17:03:46.707209Z",
          "shell.execute_reply": "2024-05-08T17:03:50.105987Z"
        },
        "trusted": true,
        "id": "NgqWrGamJrAL"
      },
      "execution_count": null,
      "outputs": []
    },
    {
      "cell_type": "markdown",
      "source": [
        "# Modelling"
      ],
      "metadata": {
        "id": "o3kuDBoAJrAL"
      }
    },
    {
      "cell_type": "markdown",
      "source": [
        "It is advisable to use GPU instead of CPU when dealing with images dataset because CPUs are generalized for general purpose and GPUs are optimized for training deep learning models as they can process multiple computations simultaneously. They have a large number of cores, which allows for better computation of multiple parallel processes. Additionally, computations in deep learning need to handle huge amounts of data — this makes a GPU’s memory bandwidth most suitable.\n",
        "To seamlessly use a GPU, if one is available, we define a couple of helper functions (`get_default_device` & `to_device`) and a helper class `DeviceDataLoader` to move our model & data to the GPU as required"
      ],
      "metadata": {
        "id": "Q_P4kpvIJrAL"
      }
    },
    {
      "cell_type": "markdown",
      "source": [
        "#### Some helper functions"
      ],
      "metadata": {
        "id": "NDebpfYIJrAL"
      }
    },
    {
      "cell_type": "code",
      "source": [
        "# for moving data into GPU (if available)\n",
        "def get_default_device():\n",
        "    \"\"\"Pick GPU if available, else CPU\"\"\"\n",
        "    if torch.cuda.is_available:\n",
        "        return torch.device(\"cuda\")\n",
        "    else:\n",
        "        return torch.device(\"cpu\")\n",
        "\n",
        "# for moving data to device (CPU or GPU)\n",
        "def to_device(data, device):\n",
        "    \"\"\"Move tensor(s) to chosen device\"\"\"\n",
        "    if isinstance(data, (list,tuple)):\n",
        "        return [to_device(x, device) for x in data]\n",
        "    return data.to(device, non_blocking=True)\n",
        "\n",
        "# for loading in the device (GPU if available else CPU)\n",
        "class DeviceDataLoader():\n",
        "    \"\"\"Wrap a dataloader to move data to a device\"\"\"\n",
        "    def __init__(self, dl, device):\n",
        "        self.dl = dl\n",
        "        self.device = device\n",
        "\n",
        "    def __iter__(self):\n",
        "        \"\"\"Yield a batch of data after moving it to device\"\"\"\n",
        "        for b in self.dl:\n",
        "            yield to_device(b, self.device)\n",
        "\n",
        "    def __len__(self):\n",
        "        \"\"\"Number of batches\"\"\"\n",
        "        return len(self.dl)"
      ],
      "metadata": {
        "execution": {
          "iopub.status.busy": "2024-05-08T17:03:50.1085Z",
          "iopub.execute_input": "2024-05-08T17:03:50.108806Z",
          "iopub.status.idle": "2024-05-08T17:03:50.11835Z",
          "shell.execute_reply.started": "2024-05-08T17:03:50.108775Z",
          "shell.execute_reply": "2024-05-08T17:03:50.117279Z"
        },
        "trusted": true,
        "id": "dCXxjv5pJrAL"
      },
      "execution_count": null,
      "outputs": []
    },
    {
      "cell_type": "markdown",
      "source": [
        "Checking the device we are working with"
      ],
      "metadata": {
        "id": "aSfU3VPBJrAL"
      }
    },
    {
      "cell_type": "code",
      "source": [
        "device = get_default_device()\n",
        "device"
      ],
      "metadata": {
        "execution": {
          "iopub.status.busy": "2024-05-08T17:03:50.119548Z",
          "iopub.execute_input": "2024-05-08T17:03:50.119838Z",
          "iopub.status.idle": "2024-05-08T17:03:50.131391Z",
          "shell.execute_reply.started": "2024-05-08T17:03:50.119815Z",
          "shell.execute_reply": "2024-05-08T17:03:50.130517Z"
        },
        "trusted": true,
        "id": "OVIvEdZKJrAL"
      },
      "execution_count": null,
      "outputs": []
    },
    {
      "cell_type": "markdown",
      "source": [
        "Wrap up our training and validation data loaders using `DeviceDataLoader` for automatically transferring batches of data to the GPU (if available)"
      ],
      "metadata": {
        "id": "hmxHTiaJJrAL"
      }
    },
    {
      "cell_type": "code",
      "source": [
        "# Moving data into GPU\n",
        "train_dl = DeviceDataLoader(train_dl, device)\n",
        "valid_dl = DeviceDataLoader(valid_dl, device)"
      ],
      "metadata": {
        "execution": {
          "iopub.status.busy": "2024-05-08T17:03:50.132621Z",
          "iopub.execute_input": "2024-05-08T17:03:50.132887Z",
          "iopub.status.idle": "2024-05-08T17:03:50.139294Z",
          "shell.execute_reply.started": "2024-05-08T17:03:50.132865Z",
          "shell.execute_reply": "2024-05-08T17:03:50.138381Z"
        },
        "trusted": true,
        "id": "7biw23iCJrAM"
      },
      "execution_count": null,
      "outputs": []
    },
    {
      "cell_type": "markdown",
      "source": [],
      "metadata": {
        "id": "WwiLy7EUJrAM"
      }
    },
    {
      "cell_type": "markdown",
      "source": [
        "## The model architecture"
      ],
      "metadata": {
        "id": "LDAWOIv_JrAM"
      }
    },
    {
      "cell_type": "markdown",
      "source": [
        "In ResNets, unlike in traditional neural networks, each layer feeds into the next layer, we use a network with residual blocks, each layer feeds into the next layer and directly into the layers about 2–3 hops away, to avoid over-fitting (a situation when validation loss stop decreasing at a point and then keeps increasing while training loss still decreases). This also helps in preventing [vanishing gradient problem](https://towardsdatascience.com/the-vanishing-gradient-problem-69bf08b15484) and allow us to train deep neural networks. Here is a simple residual block:"
      ],
      "metadata": {
        "id": "a-wMjFR4JrAM"
      }
    },
    {
      "cell_type": "markdown",
      "source": [
        "![image](https://www.mdpi.com/remotesensing/remotesensing-11-01896/article_deploy/html/images/remotesensing-11-01896-g001.png)"
      ],
      "metadata": {
        "id": "0kBPaAfzJrAN"
      }
    },
    {
      "cell_type": "markdown",
      "source": [
        "#### Residual Block code implementation"
      ],
      "metadata": {
        "id": "ok2Nv-naJrAN"
      }
    },
    {
      "cell_type": "code",
      "source": [
        "class SimpleResidualBlock(nn.Module):\n",
        "    def __init__(self):\n",
        "        super().__init__()\n",
        "        self.conv1 = nn.Conv2d(in_channels=3, out_channels=3, kernel_size=3, stride=1, padding=1)\n",
        "        self.relu1 = nn.ReLU()\n",
        "        self.conv2 = nn.Conv2d(in_channels=3, out_channels=3, kernel_size=3, stride=1, padding=1)\n",
        "        self.relu2 = nn.ReLU()\n",
        "\n",
        "    def forward(self, x):\n",
        "        out = self.conv1(x)\n",
        "        out = self.relu1(out)\n",
        "        out = self.conv2(out)\n",
        "        return self.relu2(out) + x # ReLU can be applied before or after adding the input"
      ],
      "metadata": {
        "execution": {
          "iopub.status.busy": "2024-05-08T17:03:50.140341Z",
          "iopub.execute_input": "2024-05-08T17:03:50.140583Z",
          "iopub.status.idle": "2024-05-08T17:03:50.149636Z",
          "shell.execute_reply.started": "2024-05-08T17:03:50.140562Z",
          "shell.execute_reply": "2024-05-08T17:03:50.148759Z"
        },
        "trusted": true,
        "id": "5oU5_Lo-JrAN"
      },
      "execution_count": null,
      "outputs": []
    },
    {
      "cell_type": "markdown",
      "source": [
        "**Then we define our `ImageClassificationBase` class whose functions are:**\n",
        "\n",
        "- `training_step` - To figure out how “wrong” the model is going after training or validation step.We are using this function other than just an accuracy metric that is likely not going to be differentiable (this would mean that the gradient can’t be determined, which is necessary for the model to improve during training)\n",
        "\n",
        "A quick look at the PyTorch docs that yields the cost function: [cross_entropy](https://pytorch.org/docs/stable/nn.functional.html#cross-entropy).\n",
        "\n",
        "- `validation_step` - Because an accuracy metric can’t be used while training the model, doesn’t mean it shouldn’t be implemented! Accuracy in this case would be measured by a threshold, and counted if the difference between the model’s prediction and the actual label is lower than that threshold.\n",
        "- `validation_epoch_end` - We want to track the validation losses/accuracies and train losses after each epoch, and every time we do so we have to make sure the gradient is not being tracked.\n",
        "- `epoch_end` - We also want to print validation losses/accuracies, train losses and learning rate too because we are using learning rate scheduler (which will change the learning rate after every batch of training) after each epoch.\n",
        "\n",
        "We also define an `accuracy` function which calculates the overall accuracy of the model on an entire batch of outputs, so that we can use it as a metric in `fit_one_cycle`"
      ],
      "metadata": {
        "id": "F5jqbGpoJrAN"
      }
    },
    {
      "cell_type": "code",
      "source": [
        "# for calculating the accuracy\n",
        "def accuracy(outputs, labels):\n",
        "    _, preds = torch.max(outputs, dim=1)\n",
        "    return torch.tensor(torch.sum(preds == labels).item() / len(preds))\n",
        "\n",
        "\n",
        "# base class for the model\n",
        "class ImageClassificationBase(nn.Module):\n",
        "\n",
        "    def training_step(self, batch):\n",
        "        images, labels = batch\n",
        "        out = self(images)                  # Generate predictions\n",
        "        loss = F.cross_entropy(out, labels) # Calculate loss\n",
        "        return loss\n",
        "\n",
        "    def validation_step(self, batch):\n",
        "        images, labels = batch\n",
        "        out = self(images)                   # Generate prediction\n",
        "        loss = F.cross_entropy(out, labels)  # Calculate loss\n",
        "        acc = accuracy(out, labels)          # Calculate accuracy\n",
        "        return {\"val_loss\": loss.detach(), \"val_accuracy\": acc}\n",
        "\n",
        "    def validation_epoch_end(self, outputs):\n",
        "        batch_losses = [x[\"val_loss\"] for x in outputs]\n",
        "        batch_accuracy = [x[\"val_accuracy\"] for x in outputs]\n",
        "        epoch_loss = torch.stack(batch_losses).mean()       # Combine loss\n",
        "        epoch_accuracy = torch.stack(batch_accuracy).mean()\n",
        "        return {\"val_loss\": epoch_loss, \"val_accuracy\": epoch_accuracy} # Combine accuracies\n",
        "\n",
        "    def epoch_end(self, epoch, result):\n",
        "        print(\"Epoch [{}], last_lr: {:.5f}, train_loss: {:.4f}, val_loss: {:.4f}, val_acc: {:.4f}\".format(\n",
        "            epoch, result['lrs'][-1], result['train_loss'], result['val_loss'], result['val_accuracy']))\n",
        ""
      ],
      "metadata": {
        "execution": {
          "iopub.status.busy": "2024-05-08T17:03:50.155248Z",
          "iopub.execute_input": "2024-05-08T17:03:50.155536Z",
          "iopub.status.idle": "2024-05-08T17:03:50.167065Z",
          "shell.execute_reply.started": "2024-05-08T17:03:50.155513Z",
          "shell.execute_reply": "2024-05-08T17:03:50.166Z"
        },
        "trusted": true,
        "id": "0HIRRIhvJrAN"
      },
      "execution_count": null,
      "outputs": []
    },
    {
      "cell_type": "markdown",
      "source": [
        "## Defining the final architecture of our model"
      ],
      "metadata": {
        "id": "QAZZZMiUJrAN"
      }
    },
    {
      "cell_type": "code",
      "source": [
        "# Architecture for training\n",
        "\n",
        "# convolution block with BatchNormalization\n",
        "def ConvBlock(in_channels, out_channels, pool=False):\n",
        "    layers = [nn.Conv2d(in_channels, out_channels, kernel_size=3, padding=1),\n",
        "             nn.BatchNorm2d(out_channels),\n",
        "             nn.ReLU(inplace=True)]\n",
        "    if pool:\n",
        "        layers.append(nn.MaxPool2d(4))\n",
        "    return nn.Sequential(*layers)\n",
        "\n",
        "\n",
        "# resnet architecture\n",
        "class ResNet9(ImageClassificationBase):\n",
        "    def __init__(self, in_channels, num_diseases):\n",
        "        super().__init__()\n",
        "\n",
        "        self.conv1 = ConvBlock(in_channels, 64)\n",
        "        self.conv2 = ConvBlock(64, 128, pool=True) # out_dim : 128 x 64 x 64\n",
        "        self.res1 = nn.Sequential(ConvBlock(128, 128), ConvBlock(128, 128))\n",
        "\n",
        "        self.conv3 = ConvBlock(128, 256, pool=True) # out_dim : 256 x 16 x 16\n",
        "        self.conv4 = ConvBlock(256, 512, pool=True) # out_dim : 512 x 4 x 44\n",
        "        self.res2 = nn.Sequential(ConvBlock(512, 512), ConvBlock(512, 512))\n",
        "\n",
        "        self.classifier = nn.Sequential(nn.MaxPool2d(4),\n",
        "                                       nn.Flatten(),\n",
        "                                       nn.Linear(512, num_diseases))\n",
        "\n",
        "    def forward(self, xb): # xb is the loaded batch\n",
        "        out = self.conv1(xb)\n",
        "        out = self.conv2(out)\n",
        "        out = self.res1(out) + out\n",
        "        out = self.conv3(out)\n",
        "        out = self.conv4(out)\n",
        "        out = self.res2(out) + out\n",
        "        out = self.classifier(out)\n",
        "        return out"
      ],
      "metadata": {
        "execution": {
          "iopub.status.busy": "2024-05-08T17:03:50.168392Z",
          "iopub.execute_input": "2024-05-08T17:03:50.168773Z",
          "iopub.status.idle": "2024-05-08T17:03:50.181958Z",
          "shell.execute_reply.started": "2024-05-08T17:03:50.168746Z",
          "shell.execute_reply": "2024-05-08T17:03:50.180944Z"
        },
        "trusted": true,
        "id": "btERBepEJrAN"
      },
      "execution_count": null,
      "outputs": []
    },
    {
      "cell_type": "code",
      "source": [
        "# defining the model and moving it to the GPU\n",
        "model = to_device(ResNet9(3, len(train.classes)), device)\n",
        "model"
      ],
      "metadata": {
        "execution": {
          "iopub.status.busy": "2024-05-08T17:03:50.183228Z",
          "iopub.execute_input": "2024-05-08T17:03:50.183559Z",
          "iopub.status.idle": "2024-05-08T17:03:50.268065Z",
          "shell.execute_reply.started": "2024-05-08T17:03:50.183535Z",
          "shell.execute_reply": "2024-05-08T17:03:50.26704Z"
        },
        "trusted": true,
        "id": "ljW4RfY3JrAO"
      },
      "execution_count": null,
      "outputs": []
    },
    {
      "cell_type": "code",
      "source": [
        "# getting summary of the model\n",
        "INPUT_SHAPE = (3, 256, 256)\n",
        "print(summary(model.cuda(), (INPUT_SHAPE)))"
      ],
      "metadata": {
        "execution": {
          "iopub.status.busy": "2024-05-08T17:03:50.269218Z",
          "iopub.execute_input": "2024-05-08T17:03:50.269496Z",
          "iopub.status.idle": "2024-05-08T17:03:50.818796Z",
          "shell.execute_reply.started": "2024-05-08T17:03:50.269473Z",
          "shell.execute_reply": "2024-05-08T17:03:50.817906Z"
        },
        "trusted": true,
        "id": "Gd_YiVcvJrAO"
      },
      "execution_count": null,
      "outputs": []
    },
    {
      "cell_type": "markdown",
      "source": [
        "# Training the model"
      ],
      "metadata": {
        "id": "HApUcyO6JrAO"
      }
    },
    {
      "cell_type": "markdown",
      "source": [
        "Before we train the model, Let’s define a utility functionan `evaluate` function, which will perform the validation phase, and a `fit_one_cycle` function which will perform the entire training process. In `fit_one_cycle`, we have use some techniques:"
      ],
      "metadata": {
        "id": "ejKiWjo_JrAO"
      }
    },
    {
      "cell_type": "markdown",
      "source": [
        "- **Learning Rate Scheduling**: Instead of using a fixed learning rate, we will use a learning rate scheduler, which will change the learning rate after every batch of training. There are many strategies for varying the learning rate during training, and the one we’ll use is called the *“One Cycle Learning Rate Policy”*, which involves starting with a low learning rate, gradually increasing it batch-by-batch to a high learning rate for about 30% of epochs, then gradually decreasing it to a very low value for the remaining epochs.\n",
        "\n",
        "- **Weight Decay**: We also use weight decay, which is a regularization technique which prevents the weights from becoming too large by adding an additional term to the loss function.\n",
        "\n",
        "- **Gradient Clipping**: Apart from the layer weights and outputs, it also helpful to limit the values of gradients to a small range to prevent undesirable changes in parameters due to large gradient values. This simple yet effective technique is called gradient clipping.\n",
        "\n",
        "We'll also record the learning rate used for each batch."
      ],
      "metadata": {
        "id": "WYPKtaF0JrAO"
      }
    },
    {
      "cell_type": "code",
      "source": [
        "# for training\n",
        "@torch.no_grad()\n",
        "def evaluate(model, val_loader):\n",
        "    model.eval()\n",
        "    outputs = [model.validation_step(batch) for batch in val_loader]\n",
        "    return model.validation_epoch_end(outputs)\n",
        "\n",
        "\n",
        "def get_lr(optimizer):\n",
        "    for param_group in optimizer.param_groups:\n",
        "        return param_group['lr']\n",
        "\n",
        "\n",
        "def fit_OneCycle(epochs, max_lr, model, train_loader, val_loader, weight_decay=0,\n",
        "                grad_clip=None, opt_func=torch.optim.SGD):\n",
        "    torch.cuda.empty_cache()\n",
        "    history = []\n",
        "\n",
        "    optimizer = opt_func(model.parameters(), max_lr, weight_decay=weight_decay)\n",
        "    # scheduler for one cycle learniing rate\n",
        "    sched = torch.optim.lr_scheduler.OneCycleLR(optimizer, max_lr, epochs=epochs, steps_per_epoch=len(train_loader))\n",
        "\n",
        "\n",
        "    for epoch in range(epochs):\n",
        "        # Training\n",
        "        model.train()\n",
        "        train_losses = []\n",
        "        lrs = []\n",
        "        for batch in train_loader:\n",
        "            loss = model.training_step(batch)\n",
        "            train_losses.append(loss)\n",
        "            loss.backward()\n",
        "\n",
        "            # gradient clipping\n",
        "            if grad_clip:\n",
        "                nn.utils.clip_grad_value_(model.parameters(), grad_clip)\n",
        "\n",
        "            optimizer.step()\n",
        "            optimizer.zero_grad()\n",
        "\n",
        "            # recording and updating learning rates\n",
        "            lrs.append(get_lr(optimizer))\n",
        "            sched.step()\n",
        "\n",
        "\n",
        "        # validation\n",
        "        result = evaluate(model, val_loader)\n",
        "        result['train_loss'] = torch.stack(train_losses).mean().item()\n",
        "        result['lrs'] = lrs\n",
        "        model.epoch_end(epoch, result)\n",
        "        history.append(result)\n",
        "\n",
        "    return history\n",
        ""
      ],
      "metadata": {
        "execution": {
          "iopub.status.busy": "2024-05-08T17:03:50.820057Z",
          "iopub.execute_input": "2024-05-08T17:03:50.820349Z",
          "iopub.status.idle": "2024-05-08T17:03:50.831319Z",
          "shell.execute_reply.started": "2024-05-08T17:03:50.820325Z",
          "shell.execute_reply": "2024-05-08T17:03:50.830447Z"
        },
        "trusted": true,
        "id": "h-FfGluqJrAO"
      },
      "execution_count": null,
      "outputs": []
    },
    {
      "cell_type": "code",
      "source": [
        "%%time\n",
        "history = [evaluate(model, valid_dl)]\n",
        "history"
      ],
      "metadata": {
        "execution": {
          "iopub.status.busy": "2024-05-08T17:03:50.832493Z",
          "iopub.execute_input": "2024-05-08T17:03:50.832849Z",
          "iopub.status.idle": "2024-05-08T17:04:46.298852Z",
          "shell.execute_reply.started": "2024-05-08T17:03:50.832825Z",
          "shell.execute_reply": "2024-05-08T17:04:46.297759Z"
        },
        "trusted": true,
        "id": "S5Nzjq_BJrAO"
      },
      "execution_count": null,
      "outputs": []
    },
    {
      "cell_type": "markdown",
      "source": [
        "Since there are randomly initialized weights, that is why accuracy come to near 0.019 (that is 1.9% chance of getting the right answer or you can say model randomly chooses a class).\n",
        "Now, declare some hyper parameters for the training of the model. We can change it if result is not satisfactory."
      ],
      "metadata": {
        "id": "cSQv6tjFJrAO"
      }
    },
    {
      "cell_type": "code",
      "source": [
        "epochs = 2\n",
        "max_lr = 0.01\n",
        "grad_clip = 0.1\n",
        "weight_decay = 1e-4\n",
        "opt_func = torch.optim.Adam"
      ],
      "metadata": {
        "execution": {
          "iopub.status.busy": "2024-05-08T17:04:46.300192Z",
          "iopub.execute_input": "2024-05-08T17:04:46.3005Z",
          "iopub.status.idle": "2024-05-08T17:04:46.305419Z",
          "shell.execute_reply.started": "2024-05-08T17:04:46.30047Z",
          "shell.execute_reply": "2024-05-08T17:04:46.304393Z"
        },
        "trusted": true,
        "id": "ddKkfYHYJrAO"
      },
      "execution_count": null,
      "outputs": []
    },
    {
      "cell_type": "markdown",
      "source": [
        "Let's start training our model ....\n",
        "\n",
        "Note: The following cell may take 15 mins to 45 mins to run depending on your GPU. In kaggle (P100 GPU) it took around 20 mins of Wall Time."
      ],
      "metadata": {
        "id": "bZlz_IWaJrAO"
      }
    },
    {
      "cell_type": "code",
      "source": [
        "%%time\n",
        "history += fit_OneCycle(epochs, max_lr, model, train_dl, valid_dl,\n",
        "                             grad_clip=grad_clip,\n",
        "                             weight_decay=1e-4,\n",
        "                             opt_func=opt_func)"
      ],
      "metadata": {
        "execution": {
          "iopub.status.busy": "2024-05-08T17:04:46.307682Z",
          "iopub.execute_input": "2024-05-08T17:04:46.308485Z",
          "iopub.status.idle": "2024-05-08T17:20:50.205192Z",
          "shell.execute_reply.started": "2024-05-08T17:04:46.308444Z",
          "shell.execute_reply": "2024-05-08T17:20:50.204071Z"
        },
        "trusted": true,
        "id": "2rIFkuTmJrAO"
      },
      "execution_count": null,
      "outputs": []
    },
    {
      "cell_type": "markdown",
      "source": [
        "### We got an accuracy of 99.2 %"
      ],
      "metadata": {
        "id": "5cSOfnHCJrAO"
      }
    },
    {
      "cell_type": "markdown",
      "source": [
        "# Testing the model on test data"
      ],
      "metadata": {
        "id": "ufSE1cz_JrAP"
      }
    },
    {
      "cell_type": "code",
      "source": [
        "test_dir = \"../input/new-plant-diseases-dataset/test\"\n",
        "test = ImageFolder(test_dir, transform=transforms.ToTensor())"
      ],
      "metadata": {
        "execution": {
          "iopub.status.busy": "2024-05-08T17:20:50.206726Z",
          "iopub.execute_input": "2024-05-08T17:20:50.207098Z",
          "iopub.status.idle": "2024-05-08T17:20:50.22659Z",
          "shell.execute_reply.started": "2024-05-08T17:20:50.207066Z",
          "shell.execute_reply": "2024-05-08T17:20:50.225828Z"
        },
        "trusted": true,
        "id": "UrTW9y71JrAP"
      },
      "execution_count": null,
      "outputs": []
    },
    {
      "cell_type": "code",
      "source": [
        "test_images = sorted(os.listdir(test_dir + '/test')) # since images in test folder are in alphabetical order\n",
        "test_images"
      ],
      "metadata": {
        "execution": {
          "iopub.status.busy": "2024-05-08T17:20:50.227607Z",
          "iopub.execute_input": "2024-05-08T17:20:50.227875Z",
          "iopub.status.idle": "2024-05-08T17:20:50.235535Z",
          "shell.execute_reply.started": "2024-05-08T17:20:50.227851Z",
          "shell.execute_reply": "2024-05-08T17:20:50.234694Z"
        },
        "trusted": true,
        "id": "E0t890dWJrAP"
      },
      "execution_count": null,
      "outputs": []
    },
    {
      "cell_type": "code",
      "source": [
        "def predict_image(img, model):\n",
        "    \"\"\"Converts image to array and return the predicted class\n",
        "        with highest probability\"\"\"\n",
        "    # Convert to a batch of 1\n",
        "    xb = to_device(img.unsqueeze(0), device)\n",
        "    # Get predictions from model\n",
        "    yb = model(xb)\n",
        "    # Pick index with highest probability\n",
        "    _, preds  = torch.max(yb, dim=1)\n",
        "    # Retrieve the class label\n",
        "\n",
        "    return train.classes[preds[0].item()]"
      ],
      "metadata": {
        "execution": {
          "iopub.status.busy": "2024-05-08T17:20:50.236521Z",
          "iopub.execute_input": "2024-05-08T17:20:50.236791Z",
          "iopub.status.idle": "2024-05-08T17:20:50.242713Z",
          "shell.execute_reply.started": "2024-05-08T17:20:50.236769Z",
          "shell.execute_reply": "2024-05-08T17:20:50.241786Z"
        },
        "trusted": true,
        "id": "ifOcim6dJrAP"
      },
      "execution_count": null,
      "outputs": []
    },
    {
      "cell_type": "code",
      "source": [
        "# predicting first image\n",
        "img, label = test[0]\n",
        "plt.imshow(img.permute(1, 2, 0))\n",
        "print('Label:', test_images[0], ', Predicted:', predict_image(img, model))"
      ],
      "metadata": {
        "execution": {
          "iopub.status.busy": "2024-05-08T17:20:50.243943Z",
          "iopub.execute_input": "2024-05-08T17:20:50.244556Z",
          "iopub.status.idle": "2024-05-08T17:20:50.604279Z",
          "shell.execute_reply.started": "2024-05-08T17:20:50.244523Z",
          "shell.execute_reply": "2024-05-08T17:20:50.603395Z"
        },
        "trusted": true,
        "id": "Xk-jdIXAJrAP"
      },
      "execution_count": null,
      "outputs": []
    },
    {
      "cell_type": "code",
      "source": [
        "# getting all predictions (actual label vs predicted)\n",
        "for i, (img, label) in enumerate(test):\n",
        "    print('Label:', test_images[i], ', Predicted:', predict_image(img, model))"
      ],
      "metadata": {
        "execution": {
          "iopub.status.busy": "2024-05-08T17:20:50.605506Z",
          "iopub.execute_input": "2024-05-08T17:20:50.605809Z",
          "iopub.status.idle": "2024-05-08T17:20:50.911034Z",
          "shell.execute_reply.started": "2024-05-08T17:20:50.605783Z",
          "shell.execute_reply": "2024-05-08T17:20:50.910086Z"
        },
        "trusted": true,
        "id": "cZOd9zFfJrAP"
      },
      "execution_count": null,
      "outputs": []
    },
    {
      "cell_type": "markdown",
      "source": [
        "**We can see that the model predicted all the test images perfectly!!!!**"
      ],
      "metadata": {
        "id": "SF3BG5MAJrAP"
      }
    },
    {
      "cell_type": "markdown",
      "source": [
        "# Saving the model"
      ],
      "metadata": {
        "id": "bGmQIdvFJrAP"
      }
    },
    {
      "cell_type": "markdown",
      "source": [
        "**There are several ways to save the model in Pytorch, following are the two most common ways**"
      ],
      "metadata": {
        "id": "IUYGJkRLJrAQ"
      }
    },
    {
      "cell_type": "markdown",
      "source": [
        "1. **Save/Load `state_dict` (Recommended)**\n",
        "\n",
        "When saving a model for inference, it is only necessary to save the trained model’s learned parameters. Saving the model’s `state_dict` with the `torch.save()` function will give you the most flexibility for restoring the model later, which is why it is the recommended method for saving models.\n",
        "\n",
        "A common PyTorch convention is to save models using either a `.pt` or `.pth` file extension.\n",
        "\n",
        "Remember that you must call `model.eval()` to set dropout and batch normalization layers to evaluation mode before running inference. Failing to do this will yield inconsistent inference results."
      ],
      "metadata": {
        "id": "P7vNahjwJrAQ"
      }
    },
    {
      "cell_type": "code",
      "source": [
        "# saving to the kaggle working directory\n",
        "PATH = './plant-disease-model.pth'\n",
        "torch.save(model.state_dict(), PATH)"
      ],
      "metadata": {
        "execution": {
          "iopub.status.busy": "2024-05-08T17:20:50.91237Z",
          "iopub.execute_input": "2024-05-08T17:20:50.912738Z",
          "iopub.status.idle": "2024-05-08T17:20:50.966154Z",
          "shell.execute_reply.started": "2024-05-08T17:20:50.912702Z",
          "shell.execute_reply": "2024-05-08T17:20:50.965204Z"
        },
        "trusted": true,
        "id": "0fqoQLtDJrAQ"
      },
      "execution_count": null,
      "outputs": []
    },
    {
      "cell_type": "code",
      "source": [
        "# saving the entire model to working directory\n",
        "PATH = './plant-disease-model-complete.pth'\n",
        "torch.save(model, PATH)"
      ],
      "metadata": {
        "execution": {
          "iopub.status.busy": "2024-05-08T17:20:50.967361Z",
          "iopub.execute_input": "2024-05-08T17:20:50.967633Z",
          "iopub.status.idle": "2024-05-08T17:20:51.015671Z",
          "shell.execute_reply.started": "2024-05-08T17:20:50.967611Z",
          "shell.execute_reply": "2024-05-08T17:20:51.01478Z"
        },
        "trusted": true,
        "id": "zTolW75mJrAQ"
      },
      "execution_count": null,
      "outputs": []
    }
  ]
}